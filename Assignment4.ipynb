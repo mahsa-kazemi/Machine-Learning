{
 "cells": [
  {
   "cell_type": "markdown",
   "metadata": {},
   "source": [
    "# Assignment 4\n",
    "\n",
    "### Instructions\n",
    "\n",
    "* Write your code in the cells provided.  Where appropirate, enter markdown to answer questions.\n",
    "\n",
    "* Submit this notebook to owl.\n",
    "\n",
    "---\n"
   ]
  },
  {
   "cell_type": "code",
   "execution_count": 1,
   "metadata": {
    "collapsed": true
   },
   "outputs": [],
   "source": [
    "# It's dangerous to go alone.  Take these!\n",
    "import pandas as pd\n",
    "import numpy as np\n",
    "import matplotlib.pyplot as plt\n",
    "import seaborn as sns\n",
    "from sklearn.model_selection import train_test_split, cross_val_score\n",
    "from sklearn.linear_model import LinearRegression\n",
    "from sklearn.pipeline import Pipeline\n",
    "from sklearn.preprocessing import StandardScaler, PolynomialFeatures\n",
    "from sklearn.metrics import mean_squared_error, mean_absolute_error,make_scorer\n",
    "pd.set_option('display.max_columns', 500)\n",
    "\n",
    "%matplotlib inline"
   ]
  },
  {
   "cell_type": "markdown",
   "metadata": {},
   "source": [
    "### You're A Data Scientist!\n",
    "You are working as a Junior Data Scientist for a professional football (er, Soccer) club.  The owner of the team is very interested in seeing how the use of data can help improve the team's peformance, and perhaps win them a championship!\n",
    "\n",
    "The draft is coming up soon (thats when you get to pick new players for your team), and the owner has asked you to create a model to help score potential draftees.  The model should look at attributes about the player and predict what their \"rating\" will be once they start playing professionally.\n",
    "\n",
    "The football club's data team has provided you with data for 17,993 footballers from the league.  Your job: work with the Senior Data Scientist to build a model or models, perform model selection, and make predictions on players you have not yet seen.\n",
    "\n",
    "### The Dataset\n",
    "\n",
    "The data is stored in a csv file called `footballer_data.csv`.  The data contain 52 columns, including some information about the player, their skills, and their overall measure as an effective footballer.\n",
    "\n",
    "Most features relate to the player's abilities in football related skills, such as passing, shooting, dribbling, etc.  Some features are rated on a 1-5 scale (5 being the best), others are rated on 0-100 (100 being the best), and others still are categorical (e.g. work rate is coded as low, medium, or high).\n",
    "\n",
    "The target variable (or $y$ variable, if you will) is `overall`.  This is an overall measure of the footballer's skill and is rated from 0 to 100.  The most amazingly skilled footballer would be rated 100, where as I would struggle to score more than a 20. The model(s) you build should use the other features to predict `overall`.\n",
    "\n",
    "\n",
    "\n",
    "### Part A\n",
    "\n",
    "Read in the data and take a look at the dataframe.  There should be 52 columns. The outcome of interest is called `overall` which gives an overall measure of player performance. Not all of the other columns are particularly useful for modelling though (for instance, `ID` is just a unique identifier for the player.  This is essentially an arbitrary number and has no bearing on the player's rating).\n",
    "\n",
    "The Senior Data Scientist thinks the following columns should be removed:\n",
    "\n",
    "* ID\n",
    "* club\n",
    "* club_logo\n",
    "* birth_date\n",
    "* flag\n",
    "* nationality\n",
    "* photo\n",
    "* potential\n",
    "\n",
    "The Senior Data Scientist would also like the following columns converted into dummy variables:\n",
    "\n",
    "* work_rate_att\n",
    "* work_rate_def\n",
    "* preferred_foot\n",
    "\n",
    "Clean the data according to the Senior Data Scientist's instructions."
   ]
  },
  {
   "cell_type": "code",
   "execution_count": null,
   "metadata": {
    "collapsed": true
   },
   "outputs": [],
   "source": [
    "footballer_out = pd.read_csv('footballer_data.csv')\n",
    "footballer_out_drop = footballer_out.drop(['ID', 'club', 'club_logo', 'birth_date', 'flag', 'nationality', 'photo', 'potential'], axis = 'columns')\n",
    "model_drop_dummy = pd.get_dummies(footballer_out_drop, drop_first=True)\n",
    "display(model_drop_dummy)"
   ]
  },
  {
   "cell_type": "markdown",
   "metadata": {},
   "source": [
    "### Part B\n",
    "\n",
    "The data should all be numerical now. Before we begin modelling, it is important to obtain a baseline for the accuracy of our predictive models. Compute the absolute errors resulting if we use the median of the `overall` variable to make predictions. This will serve as our baseline performance. Plot the distribution of the errors and print their mean and standard deviation."
   ]
  },
  {
   "cell_type": "code",
   "execution_count": null,
   "metadata": {
    "collapsed": true
   },
   "outputs": [],
   "source": [
    "overall_median  = model_drop_dummy['overall'].median()\n",
    "print(overall_median)\n",
    "column_needed_series = pd.Series(model_drop_dummy['overall'])\n",
    "column_needed = (column_needed_series).to_numpy()\n",
    "abs_error = np.absolute(column_needed  - overall_median )\n",
    "abs_error_mean = np.mean(abs_error)\n",
    "abs_error_std = np.std(abs_error)\n",
    "print(f\"mean: {abs_error_mean}\")\n",
    "print(f\"standard deviation: {abs_error_std}\")\n",
    "sns.distplot(abs_error)"
   ]
  },
  {
   "cell_type": "markdown",
   "metadata": {},
   "source": [
    "### Part C\n",
    "To prepare the data for modelling, the Senior Data Scientist recomends you use `sklearn.model_selection.train_test_split` to seperate the data into a training set and a test set.\n",
    "\n",
    "The Senior Data Scientist would like to estimate the performance of the final selected model to within +/- 0.25 units using mean absolute error as the loss function of choice.  Decide on an appropriate size for the test set, then use `train_test_split` to split the features and target variables into appropriate sets."
   ]
  },
  {
   "cell_type": "code",
   "execution_count": null,
   "metadata": {
    "collapsed": true
   },
   "outputs": [],
   "source": [
    "std_final = abs_error_std\n",
    "sample_size = (2*std_final/0.25)**2\n",
    "print(f\"sample-size: {sample_size}\")\n",
    "y = model_drop_dummy.overall\n",
    "X = model_drop_dummy.drop('overall', axis = 'columns')\n",
    "# Split into train&validation, test\n",
    "# Random state assures that folds are consistent across models\n",
    "Xtrainval, Xtest, ytrainval, ytest = train_test_split(X,y, test_size = 1162, random_state = 0)\n",
    "print(Xtrainval.shape,Xtest.shape, ytrainval.shape, ytest.shape)"
   ]
  },
  {
   "cell_type": "markdown",
   "metadata": {},
   "source": [
    "### Part D\n",
    "\n",
    "The Senior Data Scientist wants you to fit a linear regression to the data as a first model.  Use sklearn to build a model pipeline which fits a linear regression to the data. (This will be a very simple, one-step pipeline but we will expand it later.) You can read up on sklearn pipelines [here](https://scikit-learn.org/stable/modules/generated/sklearn.pipeline.Pipeline.html). Note that the sklearn linear regression adds its own intercept so you don't need to create a column of 1s."
   ]
  },
  {
   "cell_type": "code",
   "execution_count": null,
   "metadata": {
    "collapsed": true
   },
   "outputs": [],
   "source": [
    "steps = [('LR', LinearRegression())]\n",
    "pipeline = Pipeline(steps)\n",
    "pipline_model  = pipeline.fit(Xtrainval, ytrainval)\n",
    "print(pipline_model)"
   ]
  },
  {
   "cell_type": "markdown",
   "metadata": {},
   "source": [
    "## Part E\n",
    "\n",
    "The senior data scientist wants a report of this model's cross validation score.  Use 5 fold cross validation to estimate the out of sample performance for this model.  You may find sklearn's `cross_val_score` useful."
   ]
  },
  {
   "cell_type": "code",
   "execution_count": null,
   "metadata": {
    "collapsed": true
   },
   "outputs": [],
   "source": [
    "cv_scores = cross_val_score(pipline_model, Xtest, ytest, \n",
    "                            cv=5, scoring=make_scorer(mean_absolute_error))\n",
    "print(cv_scores)"
   ]
  },
  {
   "cell_type": "markdown",
   "metadata": {},
   "source": [
    "### Part F\n",
    "\n",
    "That's impressive!  Your model seems to be very accurate, but now the Senior Data Scientist wants to try and make it more accurate.  Scouts have shared with the Senior Data Scientist that players hit their prime in their late 20s, and as they age they become worse overall.\n",
    "\n",
    "The Senior Data Scientist wants to add a quadratic term for age to the model.  Repeat the steps above (creating a pipeline, validating the model, etc) for a model which includes a quadratic term for age."
   ]
  },
  {
   "cell_type": "code",
   "execution_count": null,
   "metadata": {
    "collapsed": true
   },
   "outputs": [],
   "source": [
    "Xtrainval2 = Xtrainval\n",
    "Xtrainval2 = Xtrainval2.assign(age2 = Xtrainval.age**2)\n",
    "steps_new = [('LR', LinearRegression())]\n",
    "pipeline_new = Pipeline(steps_new)\n",
    "pipline_model_new  = pipeline_new.fit(Xtrainval2, ytrainval)\n",
    "print(pipline_model_new)\n",
    "#linmodel = LinearRegression().fit(Xtrainval,ytrainval)\n",
    "#print(linmodel)\n",
    "cv_scores_new = cross_val_score(pipline_model_new, Xtest, ytest, \n",
    "                            cv=5, scoring=make_scorer(mean_absolute_error))\n",
    "print(cv_scores_new)"
   ]
  },
  {
   "cell_type": "markdown",
   "metadata": {},
   "source": [
    "### Part G\n",
    "\n",
    "\n",
    "The Senior Data Scientist isn't too happy that the quadratic term has not improved the fit of the model much and now wants to include quadratic and interaction term for every feature (That's a total of 1080 features!!!!)\n",
    "\n",
    "Add sklearn's `PolynomialFeatures` to your pipeline from part C.  Report the cross validation score."
   ]
  },
  {
   "cell_type": "code",
   "execution_count": null,
   "metadata": {
    "collapsed": true
   },
   "outputs": [],
   "source": [
    "pipeline_new_features = Pipeline([\n",
    "    ('poly', PolynomialFeatures(include_bias=False)),\n",
    "    ('linear_regression', LinearRegression())\n",
    "])\n",
    "Xtrianval_new=Xtrainval\n",
    "pipline_model_new_features = pipeline_new_features.fit(Xtrianval_new, ytrainval)\n",
    "\n",
    "cv_scores_new_features = cross_val_score(pipline_model_new_features,Xtrianval_new ,  ytrainval, \n",
    "                            cv=5, scoring=make_scorer(mean_absolute_error))\n",
    "print(f\"CrossValidationScore: {cv_scores_new_features}\")\n",
    "print(f\"CrossValidationError: {cv_scores_new_features.mean()}\")"
   ]
  },
  {
   "cell_type": "code",
   "execution_count": null,
   "metadata": {
    "collapsed": true
   },
   "outputs": [],
   "source": [
    "### Part H\n",
    "\n",
    "The Senior Data Scientist is really happy with the results of adding every interaction into the model and wants to explore third order interactions (that is adding cubic terms to the model).\n",
    "\n",
    "This is not a good idea!  Talk them down from the ledge.  Write them an email in the cell below explaining what could happen if you add too may interactions.\n",
    "\n",
    "---"
   ]
  },
  {
   "cell_type": "markdown",
   "metadata": {},
   "source": [
    "Hey Boss,\n",
    "\n",
    "I got your email about adding cubic terms to the model. I think it might increase the performance but increases complexcity and might result in overfitting as well. When we use cubic terms the total number of columns is 46+C(46,3) = 91,126\n",
    "\n",
    "Sincerly,\n",
    "\n",
    "Junior Data Scientist\n",
    "\n"
   ]
  },
  {
   "cell_type": "markdown",
   "metadata": {},
   "source": [
    "### Part I\n",
    "\n",
    "You've successfully talked the Senior Data Scientist out of adding cubic terms to the model. Good job!\n",
    "\n",
    "Based on the cross validation scores, which model would you choose?  Estimate the performance of your chosen model on the test data you held out, and do the following:\n",
    "\n",
    "- Compute a point estimate for the generalization error.\n",
    "- Compute a confidence interval for the generalization error.  \n",
    "- Plot the distribution of the absolute errors.\n",
    "\n",
    "Is the test error close to the cross validation error of the model you chose? Why do you think this is the case?\n"
   ]
  },
  {
   "cell_type": "code",
   "execution_count": null,
   "metadata": {
    "collapsed": true
   },
   "outputs": [],
   "source": [
    "pipline_model_new_features  = pipeline_new_features.fit(Xtrianval_new, ytrainval)\n",
    "AbsoluteErrors= np.abs(pipline_model_new_features.predict(Xtest) - ytest)\n",
    "point_Estimation_GE = np.mean(AbsoluteErrors)\n",
    "standard_deviation = AbsoluteErrors.std()\n",
    "Confidence_Interval = [point_Estimation_GE-(2*standard_deviation/np.sqrt(1162)), point_Estimation_GE+(2*standard_deviation/np.sqrt(1162))]\n",
    "print(f\"ConfidenceInterval: {Confidence_Interval}\")\n",
    "print(f\"PointEstimateGeneralizationError: {point_Estimation_GE}\")\n",
    "print(f\"GeneralizationError: {AbsoluteErrors}\")\n",
    "sns.distplot(AbsoluteErrors)"
   ]
  },
  {
   "cell_type": "code",
   "execution_count": null,
   "metadata": {
    "collapsed": true
   },
   "outputs": [],
   "source": [
    "a)I chose the second one. In fact, after adding quadratic feature, the model performance improves.\n",
    "b) Yes the test error is close to cross validation error. Maybe because we do cross validation error at once and we have used enough training data. I beleive the median we used for prediction plays a role as well."
   ]
  }
 ],
 "metadata": {
  "kernelspec": {
   "display_name": "Python 3",
   "language": "python",
   "name": "python3"
  },
  "language_info": {
   "codemirror_mode": {
    "name": "ipython",
    "version": 3
   },
   "file_extension": ".py",
   "mimetype": "text/x-python",
   "name": "python",
   "nbconvert_exporter": "python",
   "pygments_lexer": "ipython3",
   "version": "3.6.2"
  }
 },
 "nbformat": 4,
 "nbformat_minor": 4
}
