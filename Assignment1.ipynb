{
 "cells": [
  {
   "cell_type": "markdown",
   "metadata": {
    "deletable": false,
    "editable": false,
    "nbgrader": {
     "checksum": "ed755f88fd1d8449b34047eca65990d0",
     "grade": false,
     "grade_id": "cell-e9469d5507bcd8ea",
     "locked": true,
     "schema_version": 1,
     "solution": false
    }
   },
   "source": [
    "# Assignment 01: Supervised learning, Linear models, and Loss functions\n",
    "\n",
    "\n",
    "\n",
    "## Data set \n",
    "\n",
    "In this assignment, you'll be working with some data on possums.  It's a relatively small data set, but it's a good size to get you started with ordinary least squares (OLS) and least absolute deviation (LAD), and to gain experience with supervised learning in general.  You're going to write your own methods to fit both OLS and LAD models, and then at the end compare them to the models produced by the `statsmodels` package.\n",
    "\n",
    "For this assignment, we will examine some data representing possums in Australia and New Guinea.\n",
    "The code below loads in a pandas data frame with 46 observations on the following 6 variables:\n",
    "\n",
    "sex: Sex, either m (male) or f (female).  \n",
    "age: Age in years.  \n",
    "headL: Head length, in mm.  \n",
    "skullW: Skull width, in mm.  \n",
    "totalL: Total length, in cm.  \n",
    "tailL: Tail length, in cm."
   ]
  },
  {
   "cell_type": "markdown",
   "metadata": {
    "deletable": false,
    "editable": false,
    "nbgrader": {
     "checksum": "934f3d0215af307e91b80c6f69f4ad1a",
     "grade": false,
     "grade_id": "cell-1be2a58cd5936840",
     "locked": true,
     "schema_version": 1,
     "solution": false
    }
   },
   "source": [
    "## Task 1: OLS estimation and plotting\n"
   ]
  },
  {
   "cell_type": "code",
   "execution_count": 2,
   "metadata": {
    "deletable": false,
    "editable": false,
    "nbgrader": {
     "checksum": "99532d132694eec53bf6393c4c9f98d1",
     "grade": false,
     "grade_id": "cell-03c1e147d3ce4866",
     "locked": true,
     "schema_version": 1,
     "solution": false
    }
   },
   "outputs": [],
   "source": [
    "#It's dangerous to go alone.  Take these!\n",
    "import matplotlib.pyplot as plt \n",
    "import numpy as np\n",
    "import pandas as pd\n",
    "import scipy.stats as ss \n",
    "import scipy.optimize as so\n",
    "import statsmodels.api as sm\n",
    "import statsmodels.formula.api as smf\n",
    "\n",
    "#Read in the data you will need for this assignment\n",
    "possum_data=pd.read_csv('possum.csv')"
   ]
  },
  {
   "cell_type": "code",
   "execution_count": null,
   "metadata": {
    "collapsed": true,
    "deletable": false,
    "editable": false,
    "nbgrader": {
     "checksum": "8f0f976f9d8ca247c622e11b0b09a3ec",
     "grade": false,
     "grade_id": "cell-79ccc5f0096af1b5",
     "locked": true,
     "schema_version": 1,
     "solution": false
    }
   },
   "outputs": [],
   "source": [
    "### Question 1:\n",
    "\n",
    "Investigate the relationship between the possum's age and it's tail length by plotting a scatter plot of the `age` and `tailL` columns. Label your plot and your axes. You might want to add an `alpha` in case some data are overlapping.  Perform any other exploratory analysis you think might be useful (optional.)"
   ]
  },
  {
   "cell_type": "code",
   "execution_count": 3,
   "metadata": {
    "deletable": false,
    "nbgrader": {
     "checksum": "a892afff62c39e657a195d50f2e24da1",
     "grade": true,
     "grade_id": "cell-edd979fb2a7259e8",
     "locked": false,
     "points": 5,
     "schema_version": 1,
     "solution": true
    }
   },
   "outputs": [
    {
     "data": {
      "text/html": [
       "<div>\n",
       "<style>\n",
       "    .dataframe thead tr:only-child th {\n",
       "        text-align: right;\n",
       "    }\n",
       "\n",
       "    .dataframe thead th {\n",
       "        text-align: left;\n",
       "    }\n",
       "\n",
       "    .dataframe tbody tr th {\n",
       "        vertical-align: top;\n",
       "    }\n",
       "</style>\n",
       "<table border=\"1\" class=\"dataframe\">\n",
       "  <thead>\n",
       "    <tr style=\"text-align: right;\">\n",
       "      <th></th>\n",
       "      <th>sex</th>\n",
       "      <th>age</th>\n",
       "      <th>headL</th>\n",
       "      <th>skullW</th>\n",
       "      <th>totalL</th>\n",
       "      <th>tailL</th>\n",
       "    </tr>\n",
       "  </thead>\n",
       "  <tbody>\n",
       "    <tr>\n",
       "      <th>0</th>\n",
       "      <td>m</td>\n",
       "      <td>8</td>\n",
       "      <td>94.1</td>\n",
       "      <td>60.4</td>\n",
       "      <td>89.0</td>\n",
       "      <td>36.0</td>\n",
       "    </tr>\n",
       "    <tr>\n",
       "      <th>1</th>\n",
       "      <td>f</td>\n",
       "      <td>6</td>\n",
       "      <td>92.5</td>\n",
       "      <td>57.6</td>\n",
       "      <td>91.5</td>\n",
       "      <td>36.5</td>\n",
       "    </tr>\n",
       "    <tr>\n",
       "      <th>2</th>\n",
       "      <td>f</td>\n",
       "      <td>6</td>\n",
       "      <td>94.0</td>\n",
       "      <td>60.0</td>\n",
       "      <td>95.5</td>\n",
       "      <td>39.0</td>\n",
       "    </tr>\n",
       "    <tr>\n",
       "      <th>3</th>\n",
       "      <td>f</td>\n",
       "      <td>6</td>\n",
       "      <td>93.2</td>\n",
       "      <td>57.1</td>\n",
       "      <td>92.0</td>\n",
       "      <td>38.0</td>\n",
       "    </tr>\n",
       "    <tr>\n",
       "      <th>4</th>\n",
       "      <td>f</td>\n",
       "      <td>2</td>\n",
       "      <td>91.5</td>\n",
       "      <td>56.3</td>\n",
       "      <td>85.5</td>\n",
       "      <td>36.0</td>\n",
       "    </tr>\n",
       "  </tbody>\n",
       "</table>\n",
       "</div>"
      ],
      "text/plain": [
       "  sex  age  headL  skullW  totalL  tailL\n",
       "0   m    8   94.1    60.4    89.0   36.0\n",
       "1   f    6   92.5    57.6    91.5   36.5\n",
       "2   f    6   94.0    60.0    95.5   39.0\n",
       "3   f    6   93.2    57.1    92.0   38.0\n",
       "4   f    2   91.5    56.3    85.5   36.0"
      ]
     },
     "metadata": {},
     "output_type": "display_data"
    },
    {
     "data": {
      "image/png": "[encoded data removed]",
      "text/plain": [
       "<matplotlib.figure.Figure at 0x7f073a01ec50>"
      ]
     },
     "metadata": {},
     "output_type": "display_data"
    }
   ],
   "source": [
    "from IPython.display import display\n",
    "display(possum_data.head())\n",
    "plt.scatter(possum_data.loc[:,'age'],possum_data.loc[:,'tailL'], alpha = 0.56)\n",
    "plt.xlabel(\"age\")\n",
    "plt.ylabel(\"tailL\")\n",
    "plt.title(\"Relationship between possum's age and its tail\")\n",
    "plt.show()\n",
    "\n"
   ]
  },
  {
   "cell_type": "markdown",
   "metadata": {
    "deletable": false,
    "editable": false,
    "nbgrader": {
     "checksum": "06b100d046292dfb627e90ad458353f0",
     "grade": false,
     "grade_id": "cell-0462afd46977b005",
     "locked": true,
     "schema_version": 1,
     "solution": false
    }
   },
   "source": [
    "### Question 2:\n",
    "\n",
    "Recall that the linear model, we obtain predictions by computing \n",
    "\n",
    "$$ \\mathbf{\\hat{y}} = \\mathbf{X} \\beta $$\n",
    "\n",
    "Here, $\\mathbf{X}$ is a design matrix, $\\beta$ are coefficients, and $\\mathbf{\\hat{y}}$ are fitted/estimates/predicted values. Define a model-prediction function `yhat = linearModelPredict(beta,X)` that takes a parameter vector `beta` and a matrix `X` of inputs, and produces a vector `yhat` containing the predicted (fitted) values that correspond to each row of the input matrix. Assume that `beta` has $p$ rows and $1$ column, and that `X` has $n$ rows and $p$ columns.\n",
    "\n",
    "Hint: As of Python 3.5, the `@` symbol can be used for matrix multiplication."
   ]
  },
  {
   "cell_type": "code",
   "execution_count": 4,
   "metadata": {
    "deletable": false,
    "nbgrader": {
     "checksum": "b65fc40a6bc00a40421f973f144d5180",
     "grade": false,
     "grade_id": "cell-4827ca1f7be48e94",
     "locked": false,
     "schema_version": 1,
     "solution": true
    }
   },
   "outputs": [
    {
     "data": {
      "text/plain": [
       "array([[22],\n",
       "       [38],\n",
       "       [62]])"
      ]
     },
     "execution_count": 4,
     "metadata": {},
     "output_type": "execute_result"
    }
   ],
   "source": [
    "def linearModelPredict(b,X):\n",
    "    X_in = np.array(X)\n",
    "    input_matrix = X_in.reshape(X_in.shape)\n",
    "    parameter_vector = np.array(b).reshape(-1,1)\n",
    "    y_hat_out = input_matrix@parameter_vector\n",
    "    return y_hat_out\n",
    "#simple example \n",
    "linearModelPredict([6,8],[[1,2], [1,4], [1, 7]])\n",
    "\n"
   ]
  },
  {
   "cell_type": "markdown",
   "metadata": {
    "deletable": false,
    "editable": false,
    "nbgrader": {
     "checksum": "51e02c8b3c8797aa16514462d764055c",
     "grade": false,
     "grade_id": "cell-468347a5b7c4418c",
     "locked": true,
     "schema_version": 1,
     "solution": false
    }
   },
   "source": [
    "### Question 3:\n",
    "\n",
    "Write a function `linearModelLossRSS` which computes the loss function for an OLS model parameterized by $\\beta$, as well as the gradient of the loss. Define a squared error loss function `(loss, gradient) = linearModelLossRSS(beta,X,y)` that takes a parameter vector `beta`, a matrix `X` of inputs, and a vector `y` of observed values, and produces the sum of squared errors between the observed and predicted (fitted) values, along with the gradient of the loss. Assume that `theta` has $p$ rows and $1$ column, and that `X` has $n$ rows and $p$ column, and that `y` has `n` rows and `1` column."
   ]
  },
  {
   "cell_type": "code",
   "execution_count": 5,
   "metadata": {
    "deletable": false,
    "nbgrader": {
     "checksum": "3e8da8d9d20d2a362f6633dadeb1c14c",
     "grade": false,
     "grade_id": "cell-a3c4167aaca2733a",
     "locked": false,
     "schema_version": 1,
     "solution": true
    }
   },
   "outputs": [
    {
     "data": {
      "text/plain": [
       "(4915, array([  226.,  1162.]))"
      ]
     },
     "execution_count": 5,
     "metadata": {},
     "output_type": "execute_result"
    }
   ],
   "source": [
    "def linearModelLossRSS(b,X,y):\n",
    "    X_in = np.array(X)\n",
    "    input_matrix = X_in\n",
    "    parameter_vector = np.array(b).reshape(-1,1)\n",
    "    y_hat_out = input_matrix@parameter_vector\n",
    "    y_observed = np.array(y).reshape(-1,1)\n",
    "    squared_error = (y_observed - y_hat_out)**2\n",
    "    residual_sum_of_squares = np.sum(squared_error)\n",
    "    Gradient = -2*input_matrix.T@y_observed + 2*input_matrix.T@y_hat_out\n",
    "    gradient = np.zeros(len(Gradient))\n",
    "    for i in range(len(Gradient)):\n",
    "        gradient[i] = Gradient[i]\n",
    "    return (residual_sum_of_squares, gradient)\n",
    "#simple example\n",
    "linearModelLossRSS([6,8],[[1,2], [1,4], [1, 7]],[1,3,5])"
   ]
  },
  {
   "cell_type": "markdown",
   "metadata": {
    "deletable": false,
    "editable": false,
    "nbgrader": {
     "checksum": "cab0fe1084628c892313e0b145ea80a9",
     "grade": false,
     "grade_id": "cell-943a2a2a74fe1d86",
     "locked": true,
     "schema_version": 1,
     "solution": false
    }
   },
   "source": [
    "### Question 4: \n",
    "\n",
    "#### Part 1\n",
    "\n",
    "Now that you've implemented a loss function in question 3, it is now time to minimize it to fit the data!\n",
    "\n",
    "Write a function `linearModelFit` to fit a linear model.  The function should take as its first argument an 2d-array `X` which houses the input data with one example per row, as its second argument a 1d-array `y` of outcomes with one example per row, and as its third argument a function `lossfcn` which returns as a tuple the value of the loss, as well as the gradient of the loss.\n",
    "\n",
    "Use this function to estimate the parameters that describe the relationship between a possum's age and its tail length, i.e., $\\widehat{\\mathit{TailLength}} = \\beta_0 + \\beta_1 \\mathit{age}$."
   ]
  },
  {
   "cell_type": "code",
   "execution_count": 8,
   "metadata": {
    "deletable": false,
    "nbgrader": {
     "checksum": "665e16ea4f065c06205fd39030e2f477",
     "grade": false,
     "grade_id": "cell-6b7a37fd82744050",
     "locked": false,
     "schema_version": 1,
     "solution": true
    }
   },
   "outputs": [
    {
     "data": {
      "text/plain": [
       "(array([ 33.35046603,   0.75372837]), 0.22286587947604064)"
      ]
     },
     "execution_count": 8,
     "metadata": {},
     "output_type": "execute_result"
    }
   ],
   "source": [
    "def linearModelFit(X,y,lossfcn = linearModelLossRSS):\n",
    "    \n",
    "    list_of_X = list(X)\n",
    "    index_for_ones = len(list_of_X)\n",
    "    list_of_ones = list(np.full(index_for_ones,1))\n",
    "    X_in = [list_of_ones,list_of_X]\n",
    "    y_in = list(y)\n",
    "    bstart = np.zeros(len(X_in))\n",
    "    RESULT = so.minimize(lossfcn,bstart,args=(np.array(X_in).T,y_in),jac=True)\n",
    "    estimated_betas = RESULT.x\n",
    "    estimated_betas_1 = np.array(list(estimated_betas)).reshape(-1,1)\n",
    "    y_observed = np.array(y_in).reshape(-1,1)\n",
    "    y_mean = y_observed.mean()\n",
    "    y_mean_1 = np.full((y_observed.shape), y_mean)\n",
    "    squared_error = (y_observed - y_mean)**2\n",
    "    residual_sum_of_squares_mean = np.sum(squared_error)\n",
    "    y_hat_out = np.array(X_in).T@estimated_betas_1\n",
    "    squared_error = (y_observed - y_hat_out)**2\n",
    "    residual_sum_of_squares = np.sum(squared_error)\n",
    "    R2 = 1 - (residual_sum_of_squares/residual_sum_of_squares_mean)\n",
    "    return (estimated_betas,R2)\n",
    "linearModelFit(pd.Series(possum_data['age']).values,pd.Series(possum_data['tailL']).values,lossfcn = linearModelLossRSS)\n"
   ]
  },
  {
   "cell_type": "code",
   "execution_count": null,
   "metadata": {
    "collapsed": true,
    "deletable": false,
    "editable": false,
    "nbgrader": {
     "checksum": "bb234d387f0af37438ab0f67e64ebd04",
     "grade": true,
     "grade_id": "cell-82edf839cc3f9f05",
     "locked": true,
     "points": 5,
     "schema_version": 1,
     "solution": false
    }
   },
   "outputs": [],
   "source": [
    "\n",
    "    \n",
    "\n"
   ]
  },
  {
   "cell_type": "markdown",
   "metadata": {
    "deletable": false,
    "editable": false,
    "nbgrader": {
     "checksum": "e330c80ad56a44dd047ec5fe6d7ff175",
     "grade": false,
     "grade_id": "cell-2f605e747adce65f",
     "locked": true,
     "schema_version": 1,
     "solution": false
    }
   },
   "source": [
    "#### Part 2\n",
    "\n",
    "Using your solution, plot the data points and the fitted line below. Label your plot and your axes."
   ]
  },
  {
   "cell_type": "code",
   "execution_count": 7,
   "metadata": {
    "deletable": false,
    "nbgrader": {
     "checksum": "b138f9ba0714a5efb619f9d3171c5bc9",
     "grade": true,
     "grade_id": "cell-1af2aaecb6fd331a",
     "locked": false,
     "points": 5,
     "schema_version": 1,
     "solution": true
    }
   },
   "outputs": [
    {
     "data": {
      "image/png": "[encoded data removed]",
      "text/plain": [
       "<matplotlib.figure.Figure at 0x7f073a0041d0>"
      ]
     },
     "metadata": {},
     "output_type": "display_data"
    }
   ],
   "source": [
    "age = np.linspace(1,12,12)\n",
    "tailL = 0.75372837*age+33.35046603\n",
    "plt.plot(age, tailL, '-r', label='tailL = 0.75372837*age+33.35046603')\n",
    "plt.title('OLS Graph and scatter plot of tailL w.r.t age')\n",
    "plt.xlabel('age', color='#1C2833')\n",
    "plt.ylabel('tailL', color='#1C2833')\n",
    "plt.scatter(possum_data.loc[:,'age'],possum_data.loc[:,'tailL'], alpha = 0.5)\n",
    "#plt.ylim(0, 90)\n",
    "#plt.xlim(0, 12)\n",
    "plt.show()"
   ]
  },
  {
   "cell_type": "markdown",
   "metadata": {
    "deletable": false,
    "editable": false,
    "nbgrader": {
     "checksum": "cf57584a09cfc7aad4c82e78021c069f",
     "grade": false,
     "grade_id": "cell-dd6a59a07b35a35c",
     "locked": true,
     "schema_version": 1,
     "solution": false
    }
   },
   "source": [
    "# Task 2: Least Absolute Deviation Loss"
   ]
  },
  {
   "cell_type": "markdown",
   "metadata": {
    "deletable": false,
    "editable": false,
    "nbgrader": {
     "checksum": "4df31e1e46e8eb343d5884daa669bf64",
     "grade": false,
     "grade_id": "cell-6094ec15bb966e29",
     "locked": true,
     "schema_version": 1,
     "solution": false
    }
   },
   "source": [
    "### Question 1: \n",
    "\n",
    "In the previous section, we worked with the squared loss.  Now, we'll implement a linear model with least absolute deviation loss.\n",
    "\n",
    "Write a function `linearModelLossLAD` which computes the least absolute deviation loss function for a linear model  parameterized by $\\beta$, as well as the gradient of the loss.  The function should take as its first argument a 1d-array `beta` of coefficients for the linear model, as its second argument a 2d-array `X` of data, and as its third argument a 1d-array `y` of observed outcomes.\n",
    "\n"
   ]
  },
  {
   "cell_type": "code",
   "execution_count": 9,
   "metadata": {
    "deletable": false,
    "nbgrader": {
     "checksum": "24006c069d9c5caab13c7d133be99e63",
     "grade": false,
     "grade_id": "cell-19835bca47364ef3",
     "locked": false,
     "schema_version": 1,
     "solution": true
    }
   },
   "outputs": [
    {
     "data": {
      "text/plain": [
       "(113, array([  3.,  13.]))"
      ]
     },
     "execution_count": 9,
     "metadata": {},
     "output_type": "execute_result"
    }
   ],
   "source": [
    "def linearModelLossLAD(b,X,y):\n",
    "    input_matrix = np.array(X)\n",
    "    parameter_vector = np.array(b).reshape(-1,1)\n",
    "    y_hat_out = input_matrix@parameter_vector\n",
    "    y_observed = np.array(y).reshape(-1,1)\n",
    "    absolute_error = np.absolute(y_observed - y_hat_out)\n",
    "    sum_abs_dev = np.sum(absolute_error)\n",
    "    Gradient = -input_matrix.T@np.sign(y_observed-input_matrix@parameter_vector)\n",
    "    grad = np.zeros(len(Gradient))\n",
    "    for i in range(len(Gradient)):\n",
    "        grad[i] = Gradient[i]\n",
    "    return (sum_abs_dev,grad)\n",
    "#simple example\n",
    "linearModelLossLAD([6,8],[[1,2], [1,4], [1, 7]],[1,3,5])"
   ]
  },
  {
   "cell_type": "markdown",
   "metadata": {
    "deletable": false,
    "editable": false,
    "nbgrader": {
     "checksum": "6058ec251c80efaeb6231d5af08bc9db",
     "grade": false,
     "grade_id": "cell-fa6081b9ab7bbe2a",
     "locked": true,
     "schema_version": 1,
     "solution": false
    }
   },
   "source": [
    "### Question 2\n",
    "\n",
    "Use `linearModelLossLAD` to fit a linear model with least absolute deviation loss.  Report the coefficients of the model, the R squared, and plot the fit."
   ]
  },
  {
   "cell_type": "code",
   "execution_count": 10,
   "metadata": {
    "deletable": false,
    "nbgrader": {
     "checksum": "afe8ee92d2eae0cdce7ed27d5469de67",
     "grade": false,
     "grade_id": "cell-e79c9db0f115eaf6",
     "locked": false,
     "schema_version": 1,
     "solution": true
    }
   },
   "outputs": [
    {
     "data": {
      "text/plain": [
       "(array([ 34.5       ,   0.33333333]), 0.086340852130325496)"
      ]
     },
     "execution_count": 10,
     "metadata": {},
     "output_type": "execute_result"
    }
   ],
   "source": [
    "def linearModelLADFit(X,y,lossfcnLAD=linearModelLossLAD):\n",
    "    list_of_X = list(X)\n",
    "    index_for_ones = len(list_of_X)\n",
    "    list_of_ones = list(np.full(index_for_ones,1))\n",
    "    X_in = [list_of_ones,list_of_X]\n",
    "    y_in = list(y)\n",
    "    bstart = np.zeros(len(X_in))\n",
    "    RESULT = so.minimize(lossfcnLAD,bstart,args=(np.array(X_in).T,y_in),jac=True)\n",
    "    estimated_betas = RESULT.x\n",
    "    estimated_betas_1 = np.array(list(estimated_betas)).reshape(-1,1)\n",
    "    y_observed = np.array(y_in).reshape(-1,1)\n",
    "    y_mean = y_observed.mean()\n",
    "    y_mean_1 = np.full((y_observed.shape), y_mean)\n",
    "    absolute_error_mean = np.absolute(y_observed - y_mean)\n",
    "    residual_sum_of_absolute_mean = np.sum(absolute_error_mean)\n",
    "    y_hat_out = np.array(X_in).T@estimated_betas_1\n",
    "    absolute_error = np.absolute(y_observed - y_hat_out)\n",
    "    residual_sum_of_squares = np.sum(absolute_error)\n",
    "    R2 = 1 - (residual_sum_of_squares/residual_sum_of_absolute_mean)\n",
    "    return (estimated_betas,R2)\n",
    "#simple example\n",
    "linearModelLADFit(pd.Series(possum_data['age']).values,pd.Series(possum_data['tailL']).values,lossfcnLAD=linearModelLossLAD)"
   ]
  },
  {
   "cell_type": "code",
   "execution_count": null,
   "metadata": {
    "collapsed": true,
    "deletable": false,
    "editable": false,
    "nbgrader": {
     "checksum": "7cd2df424700cfc0186d49b0e417029f",
     "grade": true,
     "grade_id": "cell-49ff938735dfe56f",
     "locked": true,
     "points": 1,
     "schema_version": 1,
     "solution": false
    }
   },
   "outputs": [],
   "source": [
    "\n",
    "\n"
   ]
  },
  {
   "cell_type": "markdown",
   "metadata": {
    "deletable": false,
    "editable": false,
    "nbgrader": {
     "checksum": "aa763e935b835a035f5be49a530f9c75",
     "grade": false,
     "grade_id": "cell-8589f0d7e9ec15b3",
     "locked": true,
     "schema_version": 1,
     "solution": false
    }
   },
   "source": [
    "Plot the fit below"
   ]
  },
  {
   "cell_type": "code",
   "execution_count": 11,
   "metadata": {
    "deletable": false,
    "nbgrader": {
     "checksum": "c4eb00628615e30f3227f28ffce114c0",
     "grade": true,
     "grade_id": "cell-33c9fc44613172a8",
     "locked": false,
     "points": 0,
     "schema_version": 1,
     "solution": true
    }
   },
   "outputs": [
    {
     "data": {
      "image/png": "[encoded data removed]",
      "text/plain": [
       "<matplotlib.figure.Figure at 0x7f07320bcd68>"
      ]
     },
     "metadata": {},
     "output_type": "display_data"
    }
   ],
   "source": [
    "age = np.linspace(1,12,12)\n",
    "tailL = 0.33333333*age+34.5\n",
    "plt.plot(age, tailL, '-r', label='tailL = 0.33333333*age+34.5')\n",
    "plt.title('LAD Graph and scatter plot of tailL w.r.t age')\n",
    "plt.xlabel('age', color='#1C2833')\n",
    "plt.ylabel('tailL', color='#1C2833')\n",
    "#plt.legend(loc='upper left')\n",
    "#plt.set_ylim(0, 40)\n",
    "plt.scatter(possum_data.loc[:,'age'],possum_data.loc[:,'tailL'], alpha = 0.5)\n",
    "#plt.ylim(0, 90)\n",
    "#plt.xlim(0, 12)\n",
    "plt.show()\n"
   ]
  },
  {
   "cell_type": "markdown",
   "metadata": {
    "deletable": false,
    "editable": false,
    "nbgrader": {
     "checksum": "d272733a3c47bfc9acc8ac6be130df5d",
     "grade": false,
     "grade_id": "cell-72968fb871b8039c",
     "locked": true,
     "schema_version": 1,
     "solution": false
    }
   },
   "source": [
    "# Task 3: Comparing With `Statsmodels`\n",
    "\n",
    "\n",
    "Fit both an OLS and a LAD model with `statsmodels`. Compare coefficient estimates, R squared values, and plot the fits. Discuss any differences or similarities between your implementation and `statsmodels`, and discuss any differences between the OLS model and the LAD model."
   ]
  },
  {
   "cell_type": "code",
   "execution_count": 14,
   "metadata": {
    "deletable": false,
    "nbgrader": {
     "checksum": "0eb15994c4e0b0adc78a4f90af5cad85",
     "grade": true,
     "grade_id": "cell-0c3764596ae0cbb9",
     "locked": false,
     "points": 0,
     "schema_version": 1,
     "solution": true
    }
   },
   "outputs": [
    {
     "name": "stdout",
     "output_type": "stream",
     "text": [
      "                            OLS Regression Results                            \n",
      "==============================================================================\n",
      "Dep. Variable:                      y   R-squared:                       0.223\n",
      "Model:                            OLS   Adj. R-squared:                  0.205\n",
      "Method:                 Least Squares   F-statistic:                     12.62\n",
      "Date:                Mon, 16 Sep 2019   Prob (F-statistic):           0.000925\n",
      "Time:                        15:42:32   Log-Likelihood:                -114.32\n",
      "No. Observations:                  46   AIC:                             232.6\n",
      "Df Residuals:                      44   BIC:                             236.3\n",
      "Df Model:                           1                                         \n",
      "Covariance Type:            nonrobust                                         \n",
      "==============================================================================\n",
      "                 coef    std err          t      P>|t|      [0.025      0.975]\n",
      "------------------------------------------------------------------------------\n",
      "const         33.3505      0.947     35.222      0.000      31.442      35.259\n",
      "x1             0.7537      0.212      3.552      0.001       0.326       1.181\n",
      "==============================================================================\n",
      "Omnibus:                       56.979   Durbin-Watson:                   1.812\n",
      "Prob(Omnibus):                  0.000   Jarque-Bera (JB):              423.052\n",
      "Skew:                           3.002   Prob(JB):                     1.37e-92\n",
      "Kurtosis:                      16.590   Cond. No.                         10.0\n",
      "==============================================================================\n",
      "\n",
      "Warnings:\n",
      "[1] Standard Errors assume that the covariance matrix of the errors is correctly specified.\n"
     ]
    },
    {
     "data": {
      "image/png": "[encoded data removed]",
      "text/plain": [
       "<matplotlib.figure.Figure at 0x7f07320cceb8>"
      ]
     },
     "metadata": {},
     "output_type": "display_data"
    },
    {
     "name": "stdout",
     "output_type": "stream",
     "text": [
      "                         QuantReg Regression Results                          \n",
      "==============================================================================\n",
      "Dep. Variable:                  tailL   Pseudo R-squared:              0.03058\n",
      "Model:                       QuantReg   Bandwidth:                       2.586\n",
      "Method:                 Least Squares   Sparsity:                        4.962\n",
      "Date:                Mon, 16 Sep 2019   No. Observations:                   46\n",
      "Time:                        15:42:32   Df Residuals:                       44\n",
      "                                        Df Model:                            1\n",
      "==============================================================================\n",
      "                 coef    std err          t      P>|t|      [0.025      0.975]\n",
      "------------------------------------------------------------------------------\n",
      "Intercept     34.5000      0.791     43.617      0.000      32.906      36.094\n",
      "age            0.3333      0.177      1.881      0.067      -0.024       0.691\n",
      "==============================================================================\n"
     ]
    },
    {
     "data": {
      "image/png": "[encoded data removed]",
      "text/plain": [
       "<matplotlib.figure.Figure at 0x7f073212eba8>"
      ]
     },
     "metadata": {},
     "output_type": "display_data"
    }
   ],
   "source": [
    "#Fit OLS model with statsmodels\n",
    "X = pd.Series(possum_data['age']).values\n",
    "X_1 = np.array(X)\n",
    "y = pd.Series(possum_data['tailL']).values\n",
    "X = sm.add_constant(X)\n",
    "results = sm.OLS(y, X).fit()\n",
    "print(results.summary())\n",
    "#plot fit OLS\n",
    "age = np.linspace(1,12,12)\n",
    "tailL = 0.7537*age+33.350\n",
    "plt.plot(age, tailL, '-r', label='tailL = 0.7537*age+33.350')\n",
    "plt.title('OLS Graph Fitted with statsmodel and scatter plot of tailL w.r.t age')\n",
    "plt.xlabel('age', color='#1C2833')\n",
    "plt.ylabel('tailL', color='#1C2833')\n",
    "plt.scatter(possum_data.loc[:,'age'],possum_data.loc[:,'tailL'], alpha = 0.5)\n",
    "plt.show()\n",
    "#Fit LAD model with statsmodels\n",
    "possum_data=pd.read_csv('possum.csv')\n",
    "mod = smf.quantreg('tailL ~ age', possum_data)\n",
    "res = mod.fit(q=.5)\n",
    "print(res.summary())\n",
    "#plot fit LAD\n",
    "age = np.linspace(1,12,12)\n",
    "tailL = 0.3333*age+34.5000\n",
    "plt.plot(age, tailL, '-r', label='0.3333*age+34.5000')\n",
    "plt.title('LAD Graph Fitted with statsmodel and scatter plot of tailL w.r.t age')\n",
    "plt.xlabel('age', color='#1C2833')\n",
    "plt.ylabel('tailL', color='#1C2833')\n",
    "#plt.legend(loc='upper left')\n",
    "#plt.set_ylim(0, 40)\n",
    "plt.scatter(possum_data.loc[:,'age'],possum_data.loc[:,'tailL'], alpha = 0.5)\n",
    "#plt.ylim(0, 90)\n",
    "#plt.xlim(0, 12)\n",
    "plt.show()\n",
    "\n"
   ]
  },
  {
   "cell_type": "markdown",
   "metadata": {
    "deletable": false,
    "editable": false,
    "nbgrader": {
     "checksum": "7e629999a11a89294dfb98e910fca049",
     "grade": false,
     "grade_id": "cell-b53337df54c544f0",
     "locked": true,
     "schema_version": 1,
     "solution": false
    }
   },
   "source": [
    "Discuss differences below."
   ]
  },
  {
   "cell_type": "markdown",
   "metadata": {
    "deletable": false,
    "nbgrader": {
     "checksum": "82444d7e75df67ce5871818bd0c8c991",
     "grade": true,
     "grade_id": "cell-57ea3123d7a6df1d",
     "locked": false,
     "points": 1,
     "schema_version": 1,
     "solution": true
    }
   },
   "source": [
    "***My OLS and OLS fitted with statsmodels:***\n",
    "in my OLS: coefficiens and R2 are:\n",
    "(array([ 33.35046603,   0.75372837]), 0.22286587947604064)\n",
    "in OLS fitted with statsmodels: coefficiens and R2 are:\n",
    "(array([ 33.3505,   0.7537]), 0.223)\n",
    "As we can see when we round coefficiens and R2 of my OLS with 4 number of decimals (for coefiicients) and 3 \n",
    "number of decimals for R2, we get the coefficiens and R2 for OLS fitted. Thus they are (in this case) the same\n",
    "==================================\n",
    "***My LAD and LAD fitted with statsmodels:***\n",
    "in my LAD: coefficiens and R2 are:\n",
    "(array([ 34.5       ,   0.33333333]), 0.086340852130325496)\n",
    "in OLS fitted with statsmodels: coefficiens and pseudo R2 are:\n",
    "(array([ 34.5000      ,   0.3333]), 0.03058)\n",
    "Again coefficients are the same but it seems R2's are not the same\n",
    "\n",
    "If we compare the std err of OLS fitted  against LAD fitted we can see that the standard error\n",
    "for computing coefficients using LAD fitted (0.791 for Intercept (tailL) and 0.177 for age )is smaller than OLS fitted (0.947 for constant(intercept or tailL) and 0.212 for x1 (age))."
   ]
  },
  {
   "cell_type": "code",
   "execution_count": null,
   "metadata": {
    "collapsed": true
   },
   "outputs": [],
   "source": [
    "which shows fitted LAD is more accurate than fitted OLS. If we look at their graphs we see that the the \n",
    "fitted LAD(red line) covers more data compare to fitted OLS"
   ]
  }
 ],
 "metadata": {
  "celltoolbar": "Edit Metadata",
  "kernelspec": {
   "display_name": "Python 3",
   "language": "python",
   "name": "python3"
  },
  "language_info": {
   "codemirror_mode": {
    "name": "ipython",
    "version": 3
   },
   "file_extension": ".py",
   "mimetype": "text/x-python",
   "name": "python",
   "nbconvert_exporter": "python",
   "pygments_lexer": "ipython3",
   "version": "3.6.2"
  }
 },
 "nbformat": 4,
 "nbformat_minor": 2
}
